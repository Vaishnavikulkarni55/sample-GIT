{
 "cells": [
  {
   "cell_type": "markdown",
   "metadata": {},
   "source": [
    "# jupyter markdown\n",
    "## jupyter markdown\n",
    "### jupyter markdown\n",
    "#### jupyter markdon\n",
    "##### jupyter markdown"
   ]
  },
  {
   "cell_type": "markdown",
   "metadata": {},
   "source": [
    "- point 1\n",
    "- point 2\n",
    "- point 3\n",
    "- point 4"
   ]
  },
  {
   "cell_type": "markdown",
   "metadata": {},
   "source": [
    "- point 1\n",
    "  **subpoint 1.1**\n",
    "  *subpoint 1.2*\n",
    "  ***subpoint 1.3***\n",
    "- point 2"
   ]
  },
  {
   "cell_type": "code",
   "execution_count": 2,
   "metadata": {},
   "outputs": [
    {
     "name": "stdout",
     "output_type": "stream",
     "text": [
      "hello world\n",
      "this is crt class\n"
     ]
    }
   ],
   "source": [
    "# Input and Output Function \n",
    "# Output Function\n",
    "print(\"hello world\")\n",
    "print(\"this is crt class\")"
   ]
  },
  {
   "cell_type": "code",
   "execution_count": 6,
   "metadata": {},
   "outputs": [
    {
     "name": "stdout",
     "output_type": "stream",
     "text": [
      "markdown cell code cell\n"
     ]
    }
   ],
   "source": [
    "print(\"markdown cell\",end=' ')\n",
    "print(\"code cell\")"
   ]
  },
  {
   "cell_type": "code",
   "execution_count": 9,
   "metadata": {},
   "outputs": [
    {
     "name": "stdout",
     "output_type": "stream",
     "text": [
      "enter ur name: \n",
      "vaishnavi\n",
      "your name is vaishnavi\n"
     ]
    }
   ],
   "source": [
    "# input function\n",
    "print(\"enter ur name: \")\n",
    "a=input('')\n",
    "print('your name is',a)"
   ]
  },
  {
   "cell_type": "markdown",
   "metadata": {},
   "source": [
    "### inserting an image using markdown\n",
    "![Image](data:image/jpeg;base64,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)"
   ]
  },
  {
   "cell_type": "markdown",
   "metadata": {},
   "source": [
    "### inserting a site using markdown\n",
    "[site](https://www.google.com/search?q=car&rlz=1C1PRFE_enIN701IN702&sxsrf=ACYBGNRPFhMiY9klxurVuJMwIjW0NwGZJQ:1576212607540&source=lnms&tbm=isch&sa=X&ved=2ahUKEwjsk8DE6bHmAhWPyDgGHUfFAAEQ_AUoAXoECBAQAw&biw=656&bih=608#imgrc=_)"
   ]
  },
  {
   "cell_type": "code",
   "execution_count": 10,
   "metadata": {},
   "outputs": [
    {
     "name": "stdout",
     "output_type": "stream",
     "text": [
      "<class 'int'>\n",
      "10\n"
     ]
    }
   ],
   "source": [
    "#basic example\n",
    "x=10\n",
    "print(type(x))\n",
    "print(x)"
   ]
  },
  {
   "cell_type": "code",
   "execution_count": 11,
   "metadata": {},
   "outputs": [
    {
     "name": "stdout",
     "output_type": "stream",
     "text": [
      "<class 'str'>\n",
      "vaishnavi\n"
     ]
    }
   ],
   "source": [
    "x=a\n",
    "print(type(x))\n",
    "print(x)"
   ]
  },
  {
   "cell_type": "code",
   "execution_count": 12,
   "metadata": {},
   "outputs": [
    {
     "name": "stdout",
     "output_type": "stream",
     "text": [
      "<class 'float'>\n",
      "1.3\n"
     ]
    }
   ],
   "source": [
    "x=1.3\n",
    "print(type(x))\n",
    "print(x)"
   ]
  },
  {
   "cell_type": "code",
   "execution_count": 13,
   "metadata": {},
   "outputs": [
    {
     "name": "stdout",
     "output_type": "stream",
     "text": [
      "<class 'bool'>\n",
      "True\n"
     ]
    }
   ],
   "source": [
    "x=True\n",
    "print(type(x))\n",
    "print(x)"
   ]
  },
  {
   "cell_type": "code",
   "execution_count": 16,
   "metadata": {},
   "outputs": [
    {
     "name": "stdout",
     "output_type": "stream",
     "text": [
      "<class 'complex'>\n",
      "(3+5j)\n"
     ]
    }
   ],
   "source": [
    "x=complex(3,5)\n",
    "print(type(x))\n",
    "print(x)"
   ]
  },
  {
   "cell_type": "code",
   "execution_count": 18,
   "metadata": {},
   "outputs": [
    {
     "name": "stdout",
     "output_type": "stream",
     "text": [
      "<class 'str'>\n",
      "vaishu\n"
     ]
    }
   ],
   "source": [
    "x=\"vaishu\"\n",
    "print(type(x))\n",
    "print(x)"
   ]
  },
  {
   "cell_type": "code",
   "execution_count": 19,
   "metadata": {},
   "outputs": [
    {
     "name": "stdout",
     "output_type": "stream",
     "text": [
      "(8+12j)\n",
      "(2+0j)\n",
      "(-21+48j)\n"
     ]
    }
   ],
   "source": [
    "c1=5+6j\n",
    "c2=3+6j\n",
    "print(c1+c2)\n",
    "print(c1-c2)\n",
    "print(c1*c2)"
   ]
  },
  {
   "cell_type": "code",
   "execution_count": 20,
   "metadata": {},
   "outputs": [
    {
     "data": {
      "text/plain": [
       "True"
      ]
     },
     "execution_count": 20,
     "metadata": {},
     "output_type": "execute_result"
    }
   ],
   "source": [
    "a=10 #boolean\n",
    "b=5\n",
    "a>b\n"
   ]
  },
  {
   "cell_type": "code",
   "execution_count": 21,
   "metadata": {},
   "outputs": [
    {
     "data": {
      "text/plain": [
       "False"
      ]
     },
     "execution_count": 21,
     "metadata": {},
     "output_type": "execute_result"
    }
   ],
   "source": [
    "a=100\n",
    "b=90\n",
    "a<b"
   ]
  },
  {
   "cell_type": "code",
   "execution_count": 22,
   "metadata": {
    "scrolled": true
   },
   "outputs": [
    {
     "name": "stdout",
     "output_type": "stream",
     "text": [
      "<class 'str'>\n",
      "<class 'str'>\n"
     ]
    }
   ],
   "source": [
    "s1=\"abd\"\n",
    "s2=\"efd\"\n",
    "print(type(s1))\n",
    "print(type(s2))"
   ]
  },
  {
   "cell_type": "code",
   "execution_count": 23,
   "metadata": {},
   "outputs": [
    {
     "name": "stdout",
     "output_type": "stream",
     "text": [
      "<class 'str'>\n"
     ]
    }
   ],
   "source": [
    "s1=\"100\"\n",
    "print(type(s1))"
   ]
  },
  {
   "cell_type": "code",
   "execution_count": 26,
   "metadata": {},
   "outputs": [
    {
     "name": "stdout",
     "output_type": "stream",
     "text": [
      "<class 'str'>\n"
     ]
    }
   ],
   "source": [
    "s1=\"12ab\"\n",
    "print(type(s1))"
   ]
  },
  {
   "cell_type": "code",
   "execution_count": 27,
   "metadata": {},
   "outputs": [
    {
     "name": "stdout",
     "output_type": "stream",
     "text": [
      "<class 'str'>\n",
      "<class 'int'>\n",
      "<class 'int'>\n",
      "2\n"
     ]
    }
   ],
   "source": [
    "# data type conversions\n",
    "s1=\"100\"\n",
    "print(type(s1))\n",
    "b=int(s1)\n",
    "print(type(b))\n",
    "f=2.4\n",
    "a=int(f)\n",
    "print(type(a))\n",
    "print(a)"
   ]
  },
  {
   "cell_type": "code",
   "execution_count": 28,
   "metadata": {},
   "outputs": [
    {
     "name": "stdout",
     "output_type": "stream",
     "text": [
      "<class 'int'>\n",
      "<class 'str'>\n",
      "<class 'float'>\n"
     ]
    }
   ],
   "source": [
    "i=100\n",
    "print(type(i))\n",
    "s1=str(i)\n",
    "print(type(s1))\n",
    "f1=float(i)\n",
    "print(type(f1))"
   ]
  },
  {
   "cell_type": "code",
   "execution_count": 32,
   "metadata": {},
   "outputs": [
    {
     "name": "stdout",
     "output_type": "stream",
     "text": [
      "5\n"
     ]
    }
   ],
   "source": [
    "#a number is given 23456\n",
    "#digit count\n",
    "s=23456\n",
    "print(len(str(s)))"
   ]
  },
  {
   "cell_type": "code",
   "execution_count": 34,
   "metadata": {},
   "outputs": [
    {
     "name": "stdout",
     "output_type": "stream",
     "text": [
      "50\n",
      "-10\n",
      "600\n",
      "20\n",
      "0.6666666666666666\n",
      "1073741824000000000000000000000000000000\n",
      "0\n"
     ]
    }
   ],
   "source": [
    "# arithmetic operators\n",
    "a=20\n",
    "b=30\n",
    "print(a+b)\n",
    "print(a-b)\n",
    "print(a*b)\n",
    "print(a%b)\n",
    "print(a/b)\n",
    "print(a**b)\n",
    "print(a//b)#float divison"
   ]
  },
  {
   "cell_type": "code",
   "execution_count": 37,
   "metadata": {},
   "outputs": [
    {
     "name": "stdout",
     "output_type": "stream",
     "text": [
      "False\n",
      "True\n",
      "False\n",
      "True\n"
     ]
    }
   ],
   "source": [
    "#relational operators\n",
    "x=20\n",
    "y=10\n",
    "print(x==y)\n",
    "print(x!=y)\n",
    "print(x<y)\n",
    "print(x>y)\n",
    "\n"
   ]
  },
  {
   "cell_type": "code",
   "execution_count": 39,
   "metadata": {},
   "outputs": [
    {
     "name": "stdout",
     "output_type": "stream",
     "text": [
      "True\n",
      "True\n",
      "False\n"
     ]
    }
   ],
   "source": [
    "# logical operators\n",
    "x=20\n",
    "y=30\n",
    "print(x>=10 and x<=20)\n",
    "print(x>=5 or x<=20)\n",
    "print(not x)\n"
   ]
  },
  {
   "cell_type": "code",
   "execution_count": 40,
   "metadata": {},
   "outputs": [
    {
     "name": "stdout",
     "output_type": "stream",
     "text": [
      "True\n",
      "True\n"
     ]
    }
   ],
   "source": [
    "#membership operators\n",
    "str1=\"abc\"\n",
    "print('a' in str1)\n",
    "print('d' not in str1)"
   ]
  },
  {
   "cell_type": "code",
   "execution_count": 47,
   "metadata": {},
   "outputs": [
    {
     "name": "stdout",
     "output_type": "stream",
     "text": [
      "enter a number:56\n",
      "even\n"
     ]
    }
   ],
   "source": [
    "#conditional statements\n",
    "n=int(input(\"enter a number:\"))\n",
    "if n%2==0:\n",
    "    print(\"even\")\n",
    "else:\n",
    "    print(\"odd\")"
   ]
  },
  {
   "cell_type": "code",
   "execution_count": 52,
   "metadata": {},
   "outputs": [
    {
     "name": "stdout",
     "output_type": "stream",
     "text": [
      "enter a number:15\n",
      "it is a multiple of 3 and 5\n"
     ]
    }
   ],
   "source": [
    "#To check whether the number is a multiple of 3 and 5\n",
    "n=int(input(\"enter a number:\"))\n",
    "if n%3==0 and n%5==0:\n",
    "    print(\"it is a multiple of 3 and 5\")\n",
    "else:\n",
    "    print(\"it is not multiple of 3 and 5\")"
   ]
  },
  {
   "cell_type": "code",
   "execution_count": 59,
   "metadata": {},
   "outputs": [
    {
     "name": "stdout",
     "output_type": "stream",
     "text": [
      "enter a number:0\n",
      "zero\n"
     ]
    }
   ],
   "source": [
    "#To check whether the given number is positive,negative or zero\n",
    "n=int(input(\"enter a number:\"))\n",
    "if n>0:\n",
    "    print(\"positive number\")\n",
    "elif n<0:\n",
    "    print(\"negative number\")\n",
    "elif n==0:\n",
    "    print(\"zero\")\n",
    "else:\n",
    "    print(\"invalid\")"
   ]
  },
  {
   "cell_type": "code",
   "execution_count": 60,
   "metadata": {},
   "outputs": [
    {
     "name": "stdout",
     "output_type": "stream",
     "text": [
      "enter an year:2012\n",
      "leap year\n"
     ]
    }
   ],
   "source": [
    "#To check whether the given year is leap year or not\n",
    "n=int(input(\"enter an year:\"))\n",
    "if n%4==0:\n",
    "    print(\"leap year\")\n",
    "else:\n",
    "    print(\"not a leap year\")"
   ]
  },
  {
   "cell_type": "code",
   "execution_count": 63,
   "metadata": {},
   "outputs": [
    {
     "name": "stdout",
     "output_type": "stream",
     "text": [
      "enter the age of a person:56\n",
      "he is eligible for voting\n"
     ]
    }
   ],
   "source": [
    "#To check whether a person is eligible for voting or not\n",
    "age=int(input(\"enter the age of a person:\"))\n",
    "if age>=18 and age<=85:\n",
    "    print(\"he is eligible for voting\")\n",
    "else:\n",
    "    print(\"he is not eligible\")"
   ]
  },
  {
   "cell_type": "code",
   "execution_count": null,
   "metadata": {},
   "outputs": [],
   "source": []
  }
 ],
 "metadata": {
  "kernelspec": {
   "display_name": "Python 3",
   "language": "python",
   "name": "python3"
  },
  "language_info": {
   "codemirror_mode": {
    "name": "ipython",
    "version": 3
   },
   "file_extension": ".py",
   "mimetype": "text/x-python",
   "name": "python",
   "nbconvert_exporter": "python",
   "pygments_lexer": "ipython3",
   "version": "3.7.3"
  }
 },
 "nbformat": 4,
 "nbformat_minor": 2
}
